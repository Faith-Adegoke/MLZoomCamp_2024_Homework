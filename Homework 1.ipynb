{
 "cells": [
  {
   "cell_type": "code",
   "execution_count": 6,
   "id": "2681bdeb",
   "metadata": {
    "scrolled": true
   },
   "outputs": [
    {
     "data": {
      "text/plain": [
       "'1.5.3'"
      ]
     },
     "execution_count": 6,
     "metadata": {},
     "output_type": "execute_result"
    }
   ],
   "source": [
    "import pandas as pd\n",
    "import wget\n",
    "\n",
    "# Question 1: Get Pandas version\n",
    "# Getting Pandas version\n",
    "pd.__version__\n"
   ]
  },
  {
   "cell_type": "code",
   "execution_count": 11,
   "id": "6e1a13c8",
   "metadata": {
    "scrolled": true
   },
   "outputs": [
    {
     "name": "stdout",
     "output_type": "stream",
     "text": [
      "\n",
      "Saved under laptops.csv\n"
     ]
    }
   ],
   "source": [
    "# Data for analysis\n",
    "!python -m wget https://raw.githubusercontent.com/alexeygrigorev/datasets/master/laptops.csv"
   ]
  },
  {
   "cell_type": "markdown",
   "id": "8438263a",
   "metadata": {},
   "source": [
    "# Question 2: How many records are in the dataset?"
   ]
  },
  {
   "cell_type": "code",
   "execution_count": 54,
   "id": "67e0d55c",
   "metadata": {},
   "outputs": [
    {
     "data": {
      "text/plain": [
       "2160"
      ]
     },
     "execution_count": 54,
     "metadata": {},
     "output_type": "execute_result"
    }
   ],
   "source": [
    "records_num = len(df)\n",
    "records_num"
   ]
  },
  {
   "cell_type": "code",
   "execution_count": 15,
   "id": "e8d06d64",
   "metadata": {
    "scrolled": true
   },
   "outputs": [
    {
     "data": {
      "text/html": [
       "<div>\n",
       "<style scoped>\n",
       "    .dataframe tbody tr th:only-of-type {\n",
       "        vertical-align: middle;\n",
       "    }\n",
       "\n",
       "    .dataframe tbody tr th {\n",
       "        vertical-align: top;\n",
       "    }\n",
       "\n",
       "    .dataframe thead th {\n",
       "        text-align: right;\n",
       "    }\n",
       "</style>\n",
       "<table border=\"1\" class=\"dataframe\">\n",
       "  <thead>\n",
       "    <tr style=\"text-align: right;\">\n",
       "      <th></th>\n",
       "      <th>Laptop</th>\n",
       "      <th>Status</th>\n",
       "      <th>Brand</th>\n",
       "      <th>Model</th>\n",
       "      <th>CPU</th>\n",
       "      <th>RAM</th>\n",
       "      <th>Storage</th>\n",
       "      <th>Storage type</th>\n",
       "      <th>GPU</th>\n",
       "      <th>Screen</th>\n",
       "      <th>Touch</th>\n",
       "      <th>Final Price</th>\n",
       "    </tr>\n",
       "  </thead>\n",
       "  <tbody>\n",
       "    <tr>\n",
       "      <th>2155</th>\n",
       "      <td>Razer Blade 17 FHD 360Hz Intel Core i7-11800H/...</td>\n",
       "      <td>Refurbished</td>\n",
       "      <td>Razer</td>\n",
       "      <td>Blade</td>\n",
       "      <td>Intel Core i7</td>\n",
       "      <td>16</td>\n",
       "      <td>1000</td>\n",
       "      <td>SSD</td>\n",
       "      <td>RTX 3060</td>\n",
       "      <td>17.3</td>\n",
       "      <td>No</td>\n",
       "      <td>2699.99</td>\n",
       "    </tr>\n",
       "    <tr>\n",
       "      <th>2156</th>\n",
       "      <td>Razer Blade 17 FHD 360Hz Intel Core i7-11800H/...</td>\n",
       "      <td>Refurbished</td>\n",
       "      <td>Razer</td>\n",
       "      <td>Blade</td>\n",
       "      <td>Intel Core i7</td>\n",
       "      <td>16</td>\n",
       "      <td>1000</td>\n",
       "      <td>SSD</td>\n",
       "      <td>RTX 3070</td>\n",
       "      <td>17.3</td>\n",
       "      <td>No</td>\n",
       "      <td>2899.99</td>\n",
       "    </tr>\n",
       "    <tr>\n",
       "      <th>2157</th>\n",
       "      <td>Razer Blade 17 FHD 360Hz Intel Core i7-11800H/...</td>\n",
       "      <td>Refurbished</td>\n",
       "      <td>Razer</td>\n",
       "      <td>Blade</td>\n",
       "      <td>Intel Core i7</td>\n",
       "      <td>32</td>\n",
       "      <td>1000</td>\n",
       "      <td>SSD</td>\n",
       "      <td>RTX 3080</td>\n",
       "      <td>17.3</td>\n",
       "      <td>No</td>\n",
       "      <td>3399.99</td>\n",
       "    </tr>\n",
       "    <tr>\n",
       "      <th>2158</th>\n",
       "      <td>Razer Book 13 Intel Evo Core i7-1165G7/16GB/1T...</td>\n",
       "      <td>Refurbished</td>\n",
       "      <td>Razer</td>\n",
       "      <td>Book</td>\n",
       "      <td>Intel Evo Core i7</td>\n",
       "      <td>16</td>\n",
       "      <td>1000</td>\n",
       "      <td>SSD</td>\n",
       "      <td>NaN</td>\n",
       "      <td>13.4</td>\n",
       "      <td>Yes</td>\n",
       "      <td>1899.99</td>\n",
       "    </tr>\n",
       "    <tr>\n",
       "      <th>2159</th>\n",
       "      <td>Razer Book FHD+ Intel Evo Core i7-1165G7/16GB/...</td>\n",
       "      <td>Refurbished</td>\n",
       "      <td>Razer</td>\n",
       "      <td>Book</td>\n",
       "      <td>Intel Evo Core i7</td>\n",
       "      <td>16</td>\n",
       "      <td>256</td>\n",
       "      <td>SSD</td>\n",
       "      <td>NaN</td>\n",
       "      <td>13.4</td>\n",
       "      <td>Yes</td>\n",
       "      <td>1699.99</td>\n",
       "    </tr>\n",
       "  </tbody>\n",
       "</table>\n",
       "</div>"
      ],
      "text/plain": [
       "                                                 Laptop       Status  Brand  \\\n",
       "2155  Razer Blade 17 FHD 360Hz Intel Core i7-11800H/...  Refurbished  Razer   \n",
       "2156  Razer Blade 17 FHD 360Hz Intel Core i7-11800H/...  Refurbished  Razer   \n",
       "2157  Razer Blade 17 FHD 360Hz Intel Core i7-11800H/...  Refurbished  Razer   \n",
       "2158  Razer Book 13 Intel Evo Core i7-1165G7/16GB/1T...  Refurbished  Razer   \n",
       "2159  Razer Book FHD+ Intel Evo Core i7-1165G7/16GB/...  Refurbished  Razer   \n",
       "\n",
       "      Model                CPU  RAM  Storage Storage type       GPU  Screen  \\\n",
       "2155  Blade      Intel Core i7   16     1000          SSD  RTX 3060    17.3   \n",
       "2156  Blade      Intel Core i7   16     1000          SSD  RTX 3070    17.3   \n",
       "2157  Blade      Intel Core i7   32     1000          SSD  RTX 3080    17.3   \n",
       "2158   Book  Intel Evo Core i7   16     1000          SSD       NaN    13.4   \n",
       "2159   Book  Intel Evo Core i7   16      256          SSD       NaN    13.4   \n",
       "\n",
       "     Touch  Final Price  \n",
       "2155    No      2699.99  \n",
       "2156    No      2899.99  \n",
       "2157    No      3399.99  \n",
       "2158   Yes      1899.99  \n",
       "2159   Yes      1699.99  "
      ]
     },
     "execution_count": 15,
     "metadata": {},
     "output_type": "execute_result"
    }
   ],
   "source": [
    "# Getting the number of records in the data\n",
    "df = pd.read_csv ('laptops.csv')\n",
    "df.tail ()"
   ]
  },
  {
   "cell_type": "markdown",
   "id": "93e71ec3",
   "metadata": {},
   "source": [
    "# Question 3: How many laptop brands are presented in the dataset?"
   ]
  },
  {
   "cell_type": "code",
   "execution_count": 25,
   "id": "3746db5b",
   "metadata": {
    "scrolled": true
   },
   "outputs": [
    {
     "name": "stdout",
     "output_type": "stream",
     "text": [
      "Number of laptop brands: 27\n",
      "Unique laptop brands: ['Asus' 'Alurin' 'MSI' 'HP' 'Lenovo' 'Medion' 'Acer' 'Apple' 'Razer'\n",
      " 'Gigabyte' 'Dell' 'LG' 'Samsung' 'PcCom' 'Microsoft' 'Primux' 'Prixton'\n",
      " 'Dynabook Toshiba' 'Thomson' 'Denver' 'Deep Gaming' 'Vant' 'Innjoo'\n",
      " 'Jetwing' 'Millenium' 'Realme' 'Toshiba']\n"
     ]
    }
   ],
   "source": [
    "# The number of unique laptop brands in the dataset\n",
    "brand_count = df['Brand'].nunique()\n",
    "print(\"Number of laptop brands:\", brand_count)\n",
    "\n",
    "# Getting the name of the brands\n",
    "unique_brands = df['Brand'].unique()\n",
    "print(\"Unique laptop brands:\", unique_brands)\n"
   ]
  },
  {
   "cell_type": "markdown",
   "id": "b67e7629",
   "metadata": {},
   "source": [
    "# Question 4: How many columns in the dataset have missing values?"
   ]
  },
  {
   "cell_type": "code",
   "execution_count": 29,
   "id": "7f988fa5",
   "metadata": {},
   "outputs": [
    {
     "name": "stdout",
     "output_type": "stream",
     "text": [
      "Number of columns with missing values: 3\n"
     ]
    }
   ],
   "source": [
    "# column_missing_values = df.isnull().sum()\n",
    "column_missing_values = df.isnull().any().sum()\n",
    "# Print the result\n",
    "print(\"Number of columns with missing values:\", column_missing_values)"
   ]
  },
  {
   "cell_type": "markdown",
   "id": "e30e6c0f",
   "metadata": {},
   "source": [
    "# Question 5: What's the maximum final price of Dell notebooks in the dataset?"
   ]
  },
  {
   "cell_type": "code",
   "execution_count": 30,
   "id": "1c12aeea",
   "metadata": {},
   "outputs": [
    {
     "name": "stdout",
     "output_type": "stream",
     "text": [
      "The maximum final price of Dell notebooks: 3936.0\n"
     ]
    }
   ],
   "source": [
    "# Maximum final price of Dell notebooks\n",
    "max_final_price = df[df['Brand'] == 'Dell']['Final Price'].max()\n",
    "\n",
    "# Print the result\n",
    "print(\"The maximum final price of Dell notebooks:\", max_final_price)\n"
   ]
  },
  {
   "cell_type": "markdown",
   "id": "be719b44",
   "metadata": {},
   "source": [
    "# Question 6:\n",
    "+ Find the median value of Screen column in the dataset.\n",
    "+ Next, calculate the most frequent value of the same Screen column.\n",
    "+ Use fillna method to fill the missing values in Screen column with the most frequent value from the previous step.\n",
    "+ Now, calculate the median value of Screen once again.\n"
   ]
  },
  {
   "cell_type": "code",
   "execution_count": 37,
   "id": "4df39463",
   "metadata": {},
   "outputs": [
    {
     "name": "stdout",
     "output_type": "stream",
     "text": [
      "Screen column median value: 15.6\n",
      "Most frequent value of Screen: 15.6\n",
      "New median value of Screen: 15.6\n"
     ]
    }
   ],
   "source": [
    "# Question 6a: Calculating the median of Screen column\n",
    "screen_median = df['Screen'].median()\n",
    "print(\"Screen column median value:\", screen_median)\n",
    "\n",
    "# Question 6b: Most frequent value of screen column\n",
    "most_frequent_value = df['Screen'].mode()[0]\n",
    "print(\"Most frequent value of Screen:\", most_frequent_value)\n",
    "\n",
    "# Question 6c: Using the fillna method to use the most_frequent_value to fill the missing values in Screen column.\n",
    "df['Screen'].fillna(most_frequent_value, inplace=True)\n",
    "\n",
    "\n",
    "# Question 6d: Calculating the new median for screen\n",
    "new_median = df['Screen'].median()\n",
    "print(\"New median value of Screen:\", new_median)"
   ]
  },
  {
   "cell_type": "markdown",
   "id": "faee7e9c",
   "metadata": {},
   "source": [
    "# Question 7:\n",
    "+ Select all the \"Innjoo\" laptops from the dataset.\n",
    "+ Select only columns RAM, Storage, Screen.\n",
    "+ Get the underlying NumPy array. Let's call it X.\n",
    "+ Compute matrix-matrix multiplication between the transpose of X and X. To get the transpose, use X.T. Let's call the result XTX.\n",
    "+ Compute the inverse of XTX.\n",
    "+ Create an array y with values [1100, 1300, 800, 900, 1000, 1100].\n",
    "+ Multiply the inverse of XTX with the transpose of X, and then multiply the result by y. Call the result w.\n",
    "+ What's the sum of all the elements of the result?"
   ]
  },
  {
   "cell_type": "code",
   "execution_count": 47,
   "id": "b656b09e",
   "metadata": {},
   "outputs": [
    {
     "name": "stdout",
     "output_type": "stream",
     "text": [
      "[[2.52000e+02 8.32000e+03 5.59800e+02]\n",
      " [8.32000e+03 3.68640e+05 1.73952e+04]\n",
      " [5.59800e+02 1.73952e+04 1.28196e+03]]\n",
      "[[ 2.78025381e-01 -1.51791334e-03 -1.00809855e-01]\n",
      " [-1.51791334e-03  1.58286725e-05  4.48052175e-04]\n",
      " [-1.00809855e-01  4.48052175e-04  3.87214888e-02]]\n"
     ]
    }
   ],
   "source": [
    "import numpy as np\n",
    "# Question 7a: Select all 'Innjoo' laptops\n",
    "X = df[df['Brand'] == 'Innjoo'].to_numpy()\n",
    "\n",
    "# Question 7b: Select only columns RAM, Storage, Screen for 'Innjoo' laptops\n",
    "X = df[df['Brand'] == 'Innjoo'][['RAM', 'Storage', 'Screen']].to_numpy()\n",
    "\n",
    "# Question 7c: Compute matrix-matrix multiplication between the transpose of X and X.\n",
    "XTX = np.matmul(X.T, X)\n",
    "\n",
    "# Question 7d: Computing the inverse of XTX\n",
    "XTX_inv = np.linalg.inv(XTX)\n",
    "\n",
    "print (XTX)\n",
    "print (XTX_inv)"
   ]
  },
  {
   "cell_type": "code",
   "execution_count": 52,
   "id": "745a8078",
   "metadata": {},
   "outputs": [
    {
     "name": "stdout",
     "output_type": "stream",
     "text": [
      "The sum of w is: 91.29988062995815\n"
     ]
    }
   ],
   "source": [
    "# Question 7e: Create an array y with values [1100, 1300, 800, 900, 1000, 1100].\n",
    "y = np.array([1100, 1300, 800, 900, 1000, 1100])\n",
    "\n",
    "# Question 7f: Get 'w' by multiplying (XTX_inv*X.T)*y\n",
    "w = np.matmul(np.matmul(XTX_inv, X.T), y)\n",
    "\n",
    "# Question 7g: Sum of all elements\n",
    "w_sum = np.sum(w)\n",
    "\n",
    "print(\"The sum of w is:\", w_sum)"
   ]
  },
  {
   "cell_type": "code",
   "execution_count": null,
   "id": "60630191",
   "metadata": {},
   "outputs": [],
   "source": []
  },
  {
   "cell_type": "code",
   "execution_count": null,
   "id": "6aa3ff11",
   "metadata": {},
   "outputs": [],
   "source": []
  },
  {
   "cell_type": "code",
   "execution_count": null,
   "id": "04ba1235",
   "metadata": {},
   "outputs": [],
   "source": []
  }
 ],
 "metadata": {
  "kernelspec": {
   "display_name": "Python 3 (ipykernel)",
   "language": "python",
   "name": "python3"
  },
  "language_info": {
   "codemirror_mode": {
    "name": "ipython",
    "version": 3
   },
   "file_extension": ".py",
   "mimetype": "text/x-python",
   "name": "python",
   "nbconvert_exporter": "python",
   "pygments_lexer": "ipython3",
   "version": "3.10.9"
  }
 },
 "nbformat": 4,
 "nbformat_minor": 5
}
